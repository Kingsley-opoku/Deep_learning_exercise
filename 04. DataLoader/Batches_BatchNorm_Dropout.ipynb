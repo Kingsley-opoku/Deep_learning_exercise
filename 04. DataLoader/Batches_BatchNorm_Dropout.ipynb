{
 "cells": [
  {
   "cell_type": "markdown",
   "metadata": {},
   "source": [
    "### Batches, Batch Normalization and Dropout\n",
    "\n",
    "In this workbook you can experiment what you learnt about how to make batches out of your data, how to perform batch normalization and dropout"
   ]
  },
  {
   "cell_type": "code",
   "execution_count": 25,
   "metadata": {},
   "outputs": [],
   "source": [
    "import numpy as np\n",
    "import pandas as pd\n",
    "import matplotlib.pyplot as plt\n",
    "import torch"
   ]
  },
  {
   "cell_type": "markdown",
   "metadata": {},
   "source": [
    "Load the data from data/batches_norm_drop.csv, then take a look at them."
   ]
  },
  {
   "cell_type": "code",
   "execution_count": 5,
   "metadata": {},
   "outputs": [
    {
     "data": {
      "text/html": [
       "<div>\n",
       "<style scoped>\n",
       "    .dataframe tbody tr th:only-of-type {\n",
       "        vertical-align: middle;\n",
       "    }\n",
       "\n",
       "    .dataframe tbody tr th {\n",
       "        vertical-align: top;\n",
       "    }\n",
       "\n",
       "    .dataframe thead th {\n",
       "        text-align: right;\n",
       "    }\n",
       "</style>\n",
       "<table border=\"1\" class=\"dataframe\">\n",
       "  <thead>\n",
       "    <tr style=\"text-align: right;\">\n",
       "      <th></th>\n",
       "      <th>0</th>\n",
       "      <th>1</th>\n",
       "      <th>2</th>\n",
       "    </tr>\n",
       "  </thead>\n",
       "  <tbody>\n",
       "    <tr>\n",
       "      <th>0</th>\n",
       "      <td>0.350140</td>\n",
       "      <td>4.248592</td>\n",
       "      <td>0</td>\n",
       "    </tr>\n",
       "    <tr>\n",
       "      <th>1</th>\n",
       "      <td>0.950728</td>\n",
       "      <td>3.528855</td>\n",
       "      <td>0</td>\n",
       "    </tr>\n",
       "    <tr>\n",
       "      <th>2</th>\n",
       "      <td>1.371517</td>\n",
       "      <td>3.149416</td>\n",
       "      <td>0</td>\n",
       "    </tr>\n",
       "    <tr>\n",
       "      <th>3</th>\n",
       "      <td>0.268221</td>\n",
       "      <td>4.337209</td>\n",
       "      <td>0</td>\n",
       "    </tr>\n",
       "    <tr>\n",
       "      <th>4</th>\n",
       "      <td>1.881996</td>\n",
       "      <td>1.515387</td>\n",
       "      <td>0</td>\n",
       "    </tr>\n",
       "  </tbody>\n",
       "</table>\n",
       "</div>"
      ],
      "text/plain": [
       "          0         1  2\n",
       "0  0.350140  4.248592  0\n",
       "1  0.950728  3.528855  0\n",
       "2  1.371517  3.149416  0\n",
       "3  0.268221  4.337209  0\n",
       "4  1.881996  1.515387  0"
      ]
     },
     "execution_count": 5,
     "metadata": {},
     "output_type": "execute_result"
    }
   ],
   "source": [
    "data=pd.read_csv('./data/batches_norm_drop.csv', header=None)\n",
    "\n",
    "data.head()\n"
   ]
  },
  {
   "cell_type": "code",
   "execution_count": 16,
   "metadata": {},
   "outputs": [
    {
     "data": {
      "text/plain": [
       "525"
      ]
     },
     "execution_count": 16,
     "metadata": {},
     "output_type": "execute_result"
    }
   ],
   "source": [
    "int(0.7* data.shape[0])"
   ]
  },
  {
   "cell_type": "code",
   "execution_count": 13,
   "metadata": {},
   "outputs": [],
   "source": [
    "x, y=data.drop(columns=2), data[2]"
   ]
  },
  {
   "cell_type": "markdown",
   "metadata": {},
   "source": [
    "Now you are ready to code your own function to create batches. If needed rewatch the video we provided in Eduflow.\n",
    "\n",
    "**Extra challange:**    Are you able to split between train and test _**without**_ using sklearn?"
   ]
  },
  {
   "cell_type": "code",
   "execution_count": 26,
   "metadata": {},
   "outputs": [],
   "source": [
    "from typing import Any, Tuple\n",
    "def split_train_test(x:Any, y:Any, train_size: float =0.8, random_state: int =None) ->Tuple[torch.tensor]:\n",
    "    if random_state:\n",
    "        np.random.set_state(random_state)\n",
    "    num_of_rows=x.shape[0]*train_size\n",
    "    num_of_rows=int(num_of_rows)\n",
    "    np.random.shuffle(x.values)\n",
    "    np.random.shuffle(y.values)\n",
    "    x_train, x_test=x.values[:num_of_rows], x.values[num_of_rows:]\n",
    "    y_train, y_test=y.values[:num_of_rows], y.values[num_of_rows:]\n",
    "    \n",
    "    x_train = torch.tensor(x_train.astype(np.float32))\n",
    "    x_test = torch.tensor(x_test.astype(np.float32))\n",
    "\n",
    "    y_train = torch.tensor(y_train.astype(np.float32))\n",
    "    y_test = torch.tensor(y_test.astype(np.float32))\n",
    "    \n",
    "    return x_train,x_test, y_train,y_test"
   ]
  },
  {
   "cell_type": "code",
   "execution_count": 27,
   "metadata": {},
   "outputs": [
    {
     "name": "stdout",
     "output_type": "stream",
     "text": [
      "x train shape: torch.Size([600, 2])\n",
      "x test shape: torch.Size([150, 2])\n",
      "y train shape: torch.Size([600])\n",
      "y test shape: torch.Size([150])\n"
     ]
    }
   ],
   "source": [
    "x_train,x_test, y_train,y_test=split_train_test(x, y, random_state=0)\n",
    "\n",
    "print(f'x train shape: {x_train.shape}')\n",
    "print(f'x test shape: {x_test.shape}')\n",
    "print(f'y train shape: {y_train.shape}')\n",
    "print(f'y test shape: {y_test.shape}')"
   ]
  },
  {
   "cell_type": "code",
   "execution_count": 28,
   "metadata": {},
   "outputs": [],
   "source": [
    "\n",
    "def batchify(x: Any,y: Any,batch_size:int, rand_state: int =None):\n",
    "\n",
    "    x_train, x_test, y_train, y_test=split_train_test(x, y, random_state=rand_state)\n",
    "\n",
    "    n_batches = x_train.shape[0] // batch_size # 11 / 3 = 3.66 -> 3\n",
    "    n_batches_test = x_test.shape[0] // batch_size\n",
    "\n",
    "    indexes = np.random.permutation(x_train.shape[0])\n",
    "    indexes_test = np.random.permutation(x_test.shape[0])\n",
    "\n",
    "\n",
    "    x_train = x_train[indexes]\n",
    "    y_train = y_train[indexes]\n",
    "\n",
    "    x_test = x_test[indexes_test]\n",
    "    y_test = y_test[indexes_test]\n",
    "\n",
    "    x_train = x_train[ :batch_size * n_batches ].reshape(n_batches, batch_size, x_train.shape[1])\n",
    "    y_train = y_train[ :batch_size * n_batches ].reshape(n_batches, batch_size, 1)\n",
    "    \n",
    "    x_test = x_test[ :batch_size * n_batches_test ].reshape(n_batches_test, batch_size, x_test.shape[1])\n",
    "    y_test = y_test[ :batch_size * n_batches_test ].reshape(n_batches_test, batch_size, 1)\n",
    "\n",
    "\n",
    "    return x_train, x_test, y_train, y_test"
   ]
  },
  {
   "cell_type": "code",
   "execution_count": 29,
   "metadata": {},
   "outputs": [],
   "source": [
    "import torch.nn as nn"
   ]
  },
  {
   "cell_type": "code",
   "execution_count": 30,
   "metadata": {},
   "outputs": [],
   "source": [
    "\n"
   ]
  },
  {
   "cell_type": "markdown",
   "metadata": {},
   "source": [
    "It's time to create your model! Remember to include the new tricks you learnt (batch normalization and dropout)!"
   ]
  },
  {
   "cell_type": "code",
   "execution_count": null,
   "metadata": {},
   "outputs": [],
   "source": [
    "class Network(nn.Module):\n",
    "  def __init__(self):\n",
    "    super(Network,self).__init__()\n",
    "    \n",
    "    self.linear=nn.Linear(200,100)\n",
    "    self.linear_bn=nn.BatchNorm1d(100)\n",
    "    \n",
    "    self.linear1=nn.Linear(100,50)\n",
    "    self.linear2_bn=nn.BatchNorm1d(50)\n",
    "    \n",
    "    self.dropout=nn.Dropout(0.25)\n",
    "    \n",
    "    self.fc=nn.Linear(50,25)\n",
    "    self.fc_bn=nn.BatchNorm1d(25)\n",
    "    \n",
    "    self.fc1=nn.Linear(25,5)\n",
    "\n",
    "\n",
    "def forward(self,y):\n",
    "    y=self.linear(y)\n",
    "    y=torch.relu(self.linear_bn(y))\n",
    "    \n",
    "    y=self.linear1(y)\n",
    "    y=torch.relu(self.linear1_bn(y))\n",
    "    \n",
    "    #y=fun.max_pool2d(y,2)\n",
    "    y=self.dropout(y)\n",
    "    \n",
    "    #y=torch.flatten(y,1)\n",
    "    \n",
    "    y=self.fc(y)\n",
    "    y=torch.relu(self.fc_bn(y))\n",
    "    \n",
    "    output=self.fc1(y)\n",
    "    \n",
    "    return output"
   ]
  },
  {
   "cell_type": "markdown",
   "metadata": {},
   "source": [
    "Train your model and evaluate it. **Extra challenge**: try to figure out how you can tell if batch norm and dropout are effective"
   ]
  },
  {
   "cell_type": "code",
   "execution_count": null,
   "metadata": {},
   "outputs": [],
   "source": [
    "# YOUR CODE HERE"
   ]
  }
 ],
 "metadata": {
  "interpreter": {
   "hash": "4aa092cf93d82678aae39682b85790fb7bcabe18f621cbbe27f94a23f45ec0a5"
  },
  "kernelspec": {
   "display_name": "Python 3.9.12 ('deeplearning')",
   "language": "python",
   "name": "python3"
  },
  "language_info": {
   "codemirror_mode": {
    "name": "ipython",
    "version": 3
   },
   "file_extension": ".py",
   "mimetype": "text/x-python",
   "name": "python",
   "nbconvert_exporter": "python",
   "pygments_lexer": "ipython3",
   "version": "3.9.12"
  },
  "orig_nbformat": 4
 },
 "nbformat": 4,
 "nbformat_minor": 2
}
